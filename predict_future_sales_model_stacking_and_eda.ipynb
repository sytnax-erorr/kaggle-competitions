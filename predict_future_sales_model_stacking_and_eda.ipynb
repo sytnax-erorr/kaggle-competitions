{
  "nbformat": 4,
  "nbformat_minor": 0,
  "metadata": {
    "kernelspec": {
      "display_name": "Python 3",
      "language": "python",
      "name": "python3"
    },
    "language_info": {
      "name": "python",
      "version": "3.6.6",
      "mimetype": "text/x-python",
      "codemirror_mode": {
        "name": "ipython",
        "version": 3
      },
      "pygments_lexer": "ipython3",
      "nbconvert_exporter": "python",
      "file_extension": ".py"
    },
    "colab": {
      "name": "predict-future-sales-model-stacking-and-eda.ipynb",
      "provenance": [],
      "collapsed_sections": []
    }
  },
  "cells": [
    {
      "cell_type": "code",
      "metadata": {
        "trusted": true,
        "_uuid": "60785124984e36422c50287be4d6b1d7944af345",
        "_kg_hide-input": false,
        "_kg_hide-output": true,
        "id": "uEgQIU64sInZ",
        "colab_type": "code",
        "colab": {}
      },
      "source": [
        "import datetime\n",
        "import warnings\n",
        "import numpy as np\n",
        "import pandas as pd\n",
        "import seaborn as sns\n",
        "import matplotlib.pyplot as plt\n",
        "import catboost\n",
        "from catboost import Pool\n",
        "from catboost import CatBoostRegressor\n",
        "from xgboost import XGBRegressor\n",
        "from xgboost import plot_importance\n",
        "from sklearn.metrics import mean_squared_error\n",
        "from sklearn.linear_model import LinearRegression\n",
        "from sklearn.neighbors import KNeighborsRegressor\n",
        "from sklearn.ensemble import RandomForestRegressor\n",
        "from sklearn.preprocessing import StandardScaler, MinMaxScaler\n",
        "\n",
        "%matplotlib inline\n",
        "sns.set(style=\"darkgrid\")\n",
        "pd.set_option('display.float_format', lambda x: '%.2f' % x)\n",
        "warnings.filterwarnings(\"ignore\")"
      ],
      "execution_count": null,
      "outputs": []
    },
    {
      "cell_type": "code",
      "metadata": {
        "trusted": true,
        "_uuid": "1902600704b6188ec08cd65ae0df9b6541b02a6c",
        "id": "GJrheIjzsIno",
        "colab_type": "code",
        "colab": {}
      },
      "source": [
        "# Loading data\n",
        "test = pd.read_csv('../input/test.csv', dtype={'ID': 'int32', 'shop_id': 'int32', \n",
        "                                                  'item_id': 'int32'})\n",
        "item_categories = pd.read_csv('../input/item_categories.csv', \n",
        "                              dtype={'item_category_name': 'str', 'item_category_id': 'int32'})\n",
        "items = pd.read_csv('../input/items.csv', dtype={'item_name': 'str', 'item_id': 'int32', \n",
        "                                                 'item_category_id': 'int32'})\n",
        "shops = pd.read_csv('../input/shops.csv', dtype={'shop_name': 'str', 'shop_id': 'int32'})\n",
        "sales = pd.read_csv('../input/sales_train.csv', parse_dates=['date'], \n",
        "                    dtype={'date': 'str', 'date_block_num': 'int32', 'shop_id': 'int32', \n",
        "                          'item_id': 'int32', 'item_price': 'float32', 'item_cnt_day': 'int32'})"
      ],
      "execution_count": null,
      "outputs": []
    },
    {
      "cell_type": "code",
      "metadata": {
        "trusted": true,
        "_uuid": "203e9c8159e3f7b9369624eb070b15b255b64003",
        "id": "YICUrnzvsIn1",
        "colab_type": "code",
        "colab": {}
      },
      "source": [
        "# Join data sets\n",
        "\n",
        "train = sales.join(items, on='item_id', rsuffix='_').join(shops, on='shop_id', rsuffix='_').join(item_categories, on='item_category_id', rsuffix='_').drop(['item_id_', 'shop_id_', 'item_category_id_'], axis=1)"
      ],
      "execution_count": null,
      "outputs": []
    },
    {
      "cell_type": "code",
      "metadata": {
        "_kg_hide-input": true,
        "trusted": true,
        "_uuid": "88cdd03ee5d313904780fa4797b9eff9ae88bfcb",
        "id": "6voX3ZzzsIoB",
        "colab_type": "code",
        "colab": {}
      },
      "source": [
        "print('Train rows: ', train.shape[0])\n",
        "print('Train columns: ', train.shape[1])"
      ],
      "execution_count": null,
      "outputs": []
    },
    {
      "cell_type": "markdown",
      "metadata": {
        "_uuid": "038c612e2f3177010080cbc2d0bd07d2e6d81af0",
        "id": "qRa1hsU-sIok",
        "colab_type": "text"
      },
      "source": [
        "### Time period of the dataset"
      ]
    },
    {
      "cell_type": "code",
      "metadata": {
        "trusted": true,
        "_uuid": "4943dc5bd0e533852c35a27fae90f7563c7b1b6c",
        "id": "Mn3lTZ0AsIom",
        "colab_type": "code",
        "colab": {}
      },
      "source": [
        "print('Min date from train set: %s' % train['date'].min().date())\n",
        "print('Max date from train set: %s' % train['date'].max().date())"
      ],
      "execution_count": null,
      "outputs": []
    },
    {
      "cell_type": "code",
      "metadata": {
        "trusted": true,
        "_uuid": "54c95a8b06b213d92cff944e6364168f8a891682",
        "id": "3htP_EFDsIoy",
        "colab_type": "code",
        "colab": {}
      },
      "source": [
        "test_shop_ids = test['shop_id'].unique()\n",
        "test_item_ids = test['item_id'].unique()\n",
        "# Only shops that exist in test set.\n",
        "lk_train = train[train['shop_id'].isin(test_shop_ids)]\n",
        "# Only items that exist in test set.\n",
        "lk_train = lk_train[lk_train['item_id'].isin(test_item_ids)]"
      ],
      "execution_count": null,
      "outputs": []
    },
    {
      "cell_type": "code",
      "metadata": {
        "trusted": true,
        "_uuid": "d3fafd1a419a27ac623be0d5dcb6a3109176472a",
        "id": "jEQhirmDsIo7",
        "colab_type": "code",
        "colab": {}
      },
      "source": [
        "print('Data set size before leaking:', train.shape[0])\n",
        "print('Data set size after leaking:', lk_train.shape[0])"
      ],
      "execution_count": null,
      "outputs": []
    },
    {
      "cell_type": "code",
      "metadata": {
        "trusted": true,
        "_uuid": "cefc1f8d4328fb583941704a9423eb0aaf051936",
        "id": "QZ2bbXW6sIpF",
        "colab_type": "code",
        "colab": {}
      },
      "source": [
        "train = train.query('item_price > 0')"
      ],
      "execution_count": null,
      "outputs": []
    },
    {
      "cell_type": "markdown",
      "metadata": {
        "_uuid": "fc7d2781916d506fafc6dedda43c981d05a4c48d",
        "id": "ICyT875SsIpQ",
        "colab_type": "text"
      },
      "source": [
        "### Data preprocessing"
      ]
    },
    {
      "cell_type": "code",
      "metadata": {
        "trusted": true,
        "_uuid": "de93738c724479d8234e30180ebcd8bf6becaf43",
        "id": "IebdOK6LsIpS",
        "colab_type": "code",
        "colab": {}
      },
      "source": [
        "# Select only useful features.\n",
        "train_monthly = lk_train[['date', 'date_block_num', 'shop_id', 'item_category_id', 'item_id', 'item_price', 'item_cnt_day']]"
      ],
      "execution_count": null,
      "outputs": []
    },
    {
      "cell_type": "code",
      "metadata": {
        "trusted": true,
        "_uuid": "0cfa016f89affd460f056a8107cfc8f345773907",
        "id": "Zm9TWl8HsIpb",
        "colab_type": "code",
        "colab": {}
      },
      "source": [
        "# Group by month in this case \"date_block_num\" and aggregate features.\n",
        "train_monthly = train_monthly.sort_values('date').groupby(['date_block_num', 'shop_id', 'item_category_id', 'item_id'], as_index=False)\n",
        "train_monthly = train_monthly.agg({'item_price':['sum', 'mean'], 'item_cnt_day':['sum', 'mean','count']})\n",
        "# Rename features.\n",
        "train_monthly.columns = ['date_block_num', 'shop_id', 'item_category_id', 'item_id', 'item_price', 'mean_item_price', 'item_cnt', 'mean_item_cnt', 'transactions']"
      ],
      "execution_count": null,
      "outputs": []
    },
    {
      "cell_type": "code",
      "metadata": {
        "trusted": true,
        "_uuid": "0491342541802ddef275456aeba8a25a152bd1be",
        "id": "4Ztt2rxosIpp",
        "colab_type": "code",
        "colab": {}
      },
      "source": [
        "# Build a data set with all the possible combinations of ['date_block_num','shop_id','item_id'] so we won't have missing records.\n",
        "shop_ids = train_monthly['shop_id'].unique()\n",
        "item_ids = train_monthly['item_id'].unique()\n",
        "empty_df = []\n",
        "for i in range(34):\n",
        "    for shop in shop_ids:\n",
        "        for item in item_ids:\n",
        "            empty_df.append([i, shop, item])\n",
        "    \n",
        "empty_df = pd.DataFrame(empty_df, columns=['date_block_num','shop_id','item_id'])"
      ],
      "execution_count": null,
      "outputs": []
    },
    {
      "cell_type": "code",
      "metadata": {
        "trusted": true,
        "_uuid": "2fbb090d2d8642622f01c6c52e362f74fa0574ce",
        "id": "h-2qHEDOsIp4",
        "colab_type": "code",
        "colab": {}
      },
      "source": [
        "# Merge the train set with the complete set (missing records will be filled with 0).\n",
        "train_monthly = pd.merge(empty_df, train_monthly, on=['date_block_num','shop_id','item_id'], how='left')\n",
        "train_monthly.fillna(0, inplace=True)"
      ],
      "execution_count": null,
      "outputs": []
    },
    {
      "cell_type": "code",
      "metadata": {
        "trusted": true,
        "_uuid": "f31f80982ae23b65c6cd3b78ac6d72613d79db69",
        "id": "McHDZsq6sIqX",
        "colab_type": "code",
        "colab": {}
      },
      "source": [
        "# Extract time based features.\n",
        "train_monthly['year'] = train_monthly['date_block_num'].apply(lambda x: ((x//12) + 2013))\n",
        "train_monthly['month'] = train_monthly['date_block_num'].apply(lambda x: (x % 12))"
      ],
      "execution_count": null,
      "outputs": []
    },
    {
      "cell_type": "markdown",
      "metadata": {
        "_uuid": "47e69a110e7cbbda02a5335284b3cf7840bad1e5",
        "id": "2RuI2LAXsIqh",
        "colab_type": "text"
      },
      "source": [
        "### EDA"
      ]
    },
    {
      "cell_type": "code",
      "metadata": {
        "_kg_hide-input": true,
        "trusted": true,
        "_uuid": "1d5a8d6bb8c546dfd59cb323a3aefb2e21f089e3",
        "id": "69PeQALFsIqi",
        "colab_type": "code",
        "colab": {}
      },
      "source": [
        "# Grouping data for EDA.\n",
        "gp_month_mean = train_monthly.groupby(['month'], as_index=False)['item_cnt'].mean()\n",
        "gp_month_sum = train_monthly.groupby(['month'], as_index=False)['item_cnt'].sum()\n",
        "gp_category_mean = train_monthly.groupby(['item_category_id'], as_index=False)['item_cnt'].mean()\n",
        "gp_category_sum = train_monthly.groupby(['item_category_id'], as_index=False)['item_cnt'].sum()\n",
        "gp_shop_mean = train_monthly.groupby(['shop_id'], as_index=False)['item_cnt'].mean()\n",
        "gp_shop_sum = train_monthly.groupby(['shop_id'], as_index=False)['item_cnt'].sum()"
      ],
      "execution_count": null,
      "outputs": []
    },
    {
      "cell_type": "code",
      "metadata": {
        "_kg_hide-input": true,
        "trusted": true,
        "_uuid": "d17df33e559832a26514aa0598578cf4d780a783",
        "id": "5wWpuD79sIqr",
        "colab_type": "code",
        "colab": {}
      },
      "source": [
        "# How sales behaves along the year?\n",
        "f, axes = plt.subplots(2, 1, figsize=(22, 10), sharex=True)\n",
        "sns.lineplot(x=\"month\", y=\"item_cnt\", data=gp_month_mean, ax=axes[0]).set_title(\"Monthly mean\")\n",
        "sns.lineplot(x=\"month\", y=\"item_cnt\", data=gp_month_sum, ax=axes[1]).set_title(\"Monthly sum\")\n",
        "plt.show()"
      ],
      "execution_count": null,
      "outputs": []
    },
    {
      "cell_type": "code",
      "metadata": {
        "_kg_hide-input": true,
        "trusted": true,
        "_uuid": "bc17569ef37ca05d8095ed3c2497fad1d12fc7d2",
        "id": "9fENrhnVsIq1",
        "colab_type": "code",
        "colab": {}
      },
      "source": [
        "# What category sells more?\n",
        "f, axes = plt.subplots(2, 1, figsize=(22, 10), sharex=True)\n",
        "sns.barplot(x=\"item_category_id\", y=\"item_cnt\", data=gp_category_mean, ax=axes[0], palette=\"rocket\").set_title(\"Monthly mean\")\n",
        "sns.barplot(x=\"item_category_id\", y=\"item_cnt\", data=gp_category_sum, ax=axes[1], palette=\"rocket\").set_title(\"Monthly sum\")\n",
        "plt.show()"
      ],
      "execution_count": null,
      "outputs": []
    },
    {
      "cell_type": "code",
      "metadata": {
        "_kg_hide-input": true,
        "trusted": true,
        "_uuid": "e3697d0b3f72ffd76c4e980fc0e4eda7c56e551a",
        "id": "aU3-5xjtsIrA",
        "colab_type": "code",
        "colab": {}
      },
      "source": [
        "# What shop sells more?\n",
        "f, axes = plt.subplots(2, 1, figsize=(22, 10), sharex=True)\n",
        "sns.barplot(x=\"shop_id\", y=\"item_cnt\", data=gp_shop_mean, ax=axes[0], palette=\"rocket\").set_title(\"Monthly mean\")\n",
        "sns.barplot(x=\"shop_id\", y=\"item_cnt\", data=gp_shop_sum, ax=axes[1], palette=\"rocket\").set_title(\"Monthly sum\")\n",
        "plt.show()"
      ],
      "execution_count": null,
      "outputs": []
    },
    {
      "cell_type": "code",
      "metadata": {
        "_kg_hide-input": true,
        "trusted": true,
        "_uuid": "7ec1f1c8a32f994519982d975bf81120e0862adc",
        "id": "8HBy7WQcsIrL",
        "colab_type": "code",
        "colab": {}
      },
      "source": [
        "# Checking for outliers\n",
        "sns.jointplot(x=\"item_cnt\", y=\"item_price\", data=train_monthly, height=8)\n",
        "plt.show()"
      ],
      "execution_count": null,
      "outputs": []
    },
    {
      "cell_type": "code",
      "metadata": {
        "_kg_hide-input": true,
        "trusted": true,
        "_uuid": "a195281a43adca4c46eb802e49ee964468da8e95",
        "id": "iO_bCw3qsIrW",
        "colab_type": "code",
        "colab": {}
      },
      "source": [
        "sns.jointplot(x=\"item_cnt\", y=\"transactions\", data=train_monthly, height=8)\n",
        "plt.show()"
      ],
      "execution_count": null,
      "outputs": []
    },
    {
      "cell_type": "code",
      "metadata": {
        "trusted": true,
        "_uuid": "22dc755fb7984aa016def26c104a1a7b24c2ed08",
        "_kg_hide-input": true,
        "id": "3wFYqP_IsIrg",
        "colab_type": "code",
        "colab": {}
      },
      "source": [
        "# Feature \"item_cnt\" distribution.\n",
        "plt.subplots(figsize=(22, 8))\n",
        "sns.boxplot(train_monthly['item_cnt'])\n",
        "plt.show()"
      ],
      "execution_count": null,
      "outputs": []
    },
    {
      "cell_type": "code",
      "metadata": {
        "trusted": true,
        "_uuid": "5d4f1ba256e10cca24bbf1f62fc504809cf40871",
        "id": "Geo8t0Z9sIrq",
        "colab_type": "code",
        "colab": {}
      },
      "source": [
        "# Removing outliers\n",
        "# I'll treat \"item_cnt\" > 20 and < 0, \"item_price\" >= 400000 as outliers, so I'll remove them.\n",
        "\n",
        "train_monthly = train_monthly.query('item_cnt >= 0 and item_cnt <= 20 and item_price < 400000')"
      ],
      "execution_count": null,
      "outputs": []
    },
    {
      "cell_type": "code",
      "metadata": {
        "trusted": true,
        "_uuid": "e790012087340e3fbf72c10ffa953255528d1a52",
        "id": "z2-dZt15sIry",
        "colab_type": "code",
        "colab": {}
      },
      "source": [
        "train_monthly['item_cnt_month'] = train_monthly.sort_values('date_block_num').groupby(['shop_id', 'item_id'])['item_cnt'].shift(-1)"
      ],
      "execution_count": null,
      "outputs": []
    },
    {
      "cell_type": "code",
      "metadata": {
        "trusted": true,
        "_uuid": "b49cf1f316bd467149fe948482210cc474edf8ff",
        "id": "BbvCBiw3sIr9",
        "colab_type": "code",
        "colab": {}
      },
      "source": [
        "train_monthly['item_price_unit'] = train_monthly['item_price'] // train_monthly['item_cnt']\n",
        "train_monthly['item_price_unit'].fillna(0, inplace=True)"
      ],
      "execution_count": null,
      "outputs": []
    },
    {
      "cell_type": "code",
      "metadata": {
        "trusted": true,
        "_uuid": "f4d3a338b82b6a0a4f00f8c46af98d43c41bf6cf",
        "id": "k1kWvCHHsIsG",
        "colab_type": "code",
        "colab": {}
      },
      "source": [
        "# Group based features.\n",
        "gp_item_price = train_monthly.sort_values('date_block_num').groupby(['item_id'], as_index=False).agg({'item_price':[np.min, np.max]})\n",
        "gp_item_price.columns = ['item_id', 'hist_min_item_price', 'hist_max_item_price']\n",
        "\n",
        "train_monthly = pd.merge(train_monthly, gp_item_price, on='item_id', how='left')"
      ],
      "execution_count": null,
      "outputs": []
    },
    {
      "cell_type": "code",
      "metadata": {
        "trusted": true,
        "_uuid": "b884111dcc00cf448f08f989ae6952bfd86af9ac",
        "id": "_0GHkVBSsIsR",
        "colab_type": "code",
        "colab": {}
      },
      "source": [
        "train_monthly['price_increase'] = train_monthly['item_price'] - train_monthly['hist_min_item_price']\n",
        "train_monthly['price_decrease'] = train_monthly['hist_max_item_price'] - train_monthly['item_price']"
      ],
      "execution_count": null,
      "outputs": []
    },
    {
      "cell_type": "code",
      "metadata": {
        "trusted": true,
        "_uuid": "c1763430ebcdade655aad80f16cc114d6b64c5fb",
        "id": "1GLJwwGpsIsZ",
        "colab_type": "code",
        "colab": {}
      },
      "source": [
        "# Rolling window based features (window = 3 months).\n",
        "# Min value\n",
        "f_min = lambda x: x.rolling(window=3, min_periods=1).min()\n",
        "# Max value\n",
        "f_max = lambda x: x.rolling(window=3, min_periods=1).max()\n",
        "# Mean value\n",
        "f_mean = lambda x: x.rolling(window=3, min_periods=1).mean()\n",
        "# Standard deviation\n",
        "f_std = lambda x: x.rolling(window=3, min_periods=1).std()\n",
        "\n",
        "function_list = [f_min, f_max, f_mean, f_std]\n",
        "function_name = ['min', 'max', 'mean', 'std']\n",
        "\n",
        "for i in range(len(function_list)):\n",
        "    train_monthly[('item_cnt_%s' % function_name[i])] = train_monthly.sort_values('date_block_num').groupby(['shop_id', 'item_category_id', 'item_id'])['item_cnt'].apply(function_list[i])\n",
        "\n",
        "# Fill the empty std features with 0\n",
        "train_monthly['item_cnt_std'].fillna(0, inplace=True)"
      ],
      "execution_count": null,
      "outputs": []
    },
    {
      "cell_type": "code",
      "metadata": {
        "trusted": true,
        "_uuid": "8660a0955ffc6f51d1769a30606ffca78792dc7e",
        "id": "6ieinkxqsIsj",
        "colab_type": "code",
        "colab": {}
      },
      "source": [
        "lag_list = [1, 2, 3]\n",
        "\n",
        "for lag in lag_list:\n",
        "    ft_name = ('item_cnt_shifted%s' % lag)\n",
        "    train_monthly[ft_name] = train_monthly.sort_values('date_block_num').groupby(['shop_id', 'item_category_id', 'item_id'])['item_cnt'].shift(lag)\n",
        "    # Fill the empty shifted features with 0\n",
        "    train_monthly[ft_name].fillna(0, inplace=True)"
      ],
      "execution_count": null,
      "outputs": []
    },
    {
      "cell_type": "markdown",
      "metadata": {
        "_uuid": "67d5a74531a16b50093d49c9093aa918854664ed",
        "id": "eAYOCeRwsIsq",
        "colab_type": "text"
      },
      "source": [
        "#### Item sales count trend."
      ]
    },
    {
      "cell_type": "code",
      "metadata": {
        "trusted": true,
        "_uuid": "0217e8b8ec14a43f733d241d2104ad411b965944",
        "id": "bHaMUeudsIsr",
        "colab_type": "code",
        "colab": {}
      },
      "source": [
        "train_monthly['item_trend'] = train_monthly['item_cnt']\n",
        "\n",
        "for lag in lag_list:\n",
        "    ft_name = ('item_cnt_shifted%s' % lag)\n",
        "    train_monthly['item_trend'] -= train_monthly[ft_name]\n",
        "\n",
        "train_monthly['item_trend'] /= len(lag_list) + 1"
      ],
      "execution_count": null,
      "outputs": []
    },
    {
      "cell_type": "markdown",
      "metadata": {
        "_uuid": "b896cee032d77260bc2cc41189f1ab0c5b272f1f",
        "id": "jSi0btE6sItC",
        "colab_type": "text"
      },
      "source": [
        "### Train/validation split"
      ]
    },
    {
      "cell_type": "code",
      "metadata": {
        "_kg_hide-input": true,
        "trusted": true,
        "_uuid": "02d50cae77983376643ecabb9e477220a94d28b2",
        "id": "kNXQpcUKsItD",
        "colab_type": "code",
        "colab": {}
      },
      "source": [
        "train_set = train_monthly.query('date_block_num >= 3 and date_block_num < 28').copy()\n",
        "validation_set = train_monthly.query('date_block_num >= 28 and date_block_num < 33').copy()\n",
        "test_set = train_monthly.query('date_block_num == 33').copy()\n",
        "\n",
        "train_set.dropna(subset=['item_cnt_month'], inplace=True)\n",
        "validation_set.dropna(subset=['item_cnt_month'], inplace=True)\n",
        "\n",
        "train_set.dropna(inplace=True)\n",
        "validation_set.dropna(inplace=True)\n",
        "\n",
        "print('Train set records:', train_set.shape[0])\n",
        "print('Validation set records:', validation_set.shape[0])\n",
        "print('Test set records:', test_set.shape[0])\n",
        "\n",
        "print('Train set records: %s (%.f%% of complete data)' % (train_set.shape[0], ((train_set.shape[0]/train_monthly.shape[0])*100)))\n",
        "print('Validation set records: %s (%.f%% of complete data)' % (validation_set.shape[0], ((validation_set.shape[0]/train_monthly.shape[0])*100)))"
      ],
      "execution_count": null,
      "outputs": []
    },
    {
      "cell_type": "markdown",
      "metadata": {
        "_uuid": "60a594cf5659f2d352efdc449a9124d9ad682537",
        "id": "7q89QddZsItP",
        "colab_type": "text"
      },
      "source": [
        "### Mean encoding."
      ]
    },
    {
      "cell_type": "code",
      "metadata": {
        "trusted": true,
        "_uuid": "c2865c55c01679d9c8a4a695e0af198a1800db33",
        "id": "3NO_2HBcsItR",
        "colab_type": "code",
        "colab": {}
      },
      "source": [
        "# Shop mean encoding.\n",
        "gp_shop_mean = train_set.groupby(['shop_id']).agg({'item_cnt_month': ['mean']})\n",
        "gp_shop_mean.columns = ['shop_mean']\n",
        "gp_shop_mean.reset_index(inplace=True)\n",
        "# Item mean encoding.\n",
        "gp_item_mean = train_set.groupby(['item_id']).agg({'item_cnt_month': ['mean']})\n",
        "gp_item_mean.columns = ['item_mean']\n",
        "gp_item_mean.reset_index(inplace=True)\n",
        "# Shop with item mean encoding.\n",
        "gp_shop_item_mean = train_set.groupby(['shop_id', 'item_id']).agg({'item_cnt_month': ['mean']})\n",
        "gp_shop_item_mean.columns = ['shop_item_mean']\n",
        "gp_shop_item_mean.reset_index(inplace=True)\n",
        "# Year mean encoding.\n",
        "gp_year_mean = train_set.groupby(['year']).agg({'item_cnt_month': ['mean']})\n",
        "gp_year_mean.columns = ['year_mean']\n",
        "gp_year_mean.reset_index(inplace=True)\n",
        "# Month mean encoding.\n",
        "gp_month_mean = train_set.groupby(['month']).agg({'item_cnt_month': ['mean']})\n",
        "gp_month_mean.columns = ['month_mean']\n",
        "gp_month_mean.reset_index(inplace=True)\n",
        "\n",
        "# Add meand encoding features to train set.\n",
        "train_set = pd.merge(train_set, gp_shop_mean, on=['shop_id'], how='left')\n",
        "train_set = pd.merge(train_set, gp_item_mean, on=['item_id'], how='left')\n",
        "train_set = pd.merge(train_set, gp_shop_item_mean, on=['shop_id', 'item_id'], how='left')\n",
        "train_set = pd.merge(train_set, gp_year_mean, on=['year'], how='left')\n",
        "train_set = pd.merge(train_set, gp_month_mean, on=['month'], how='left')\n",
        "# Add meand encoding features to validation set.\n",
        "validation_set = pd.merge(validation_set, gp_shop_mean, on=['shop_id'], how='left')\n",
        "validation_set = pd.merge(validation_set, gp_item_mean, on=['item_id'], how='left')\n",
        "validation_set = pd.merge(validation_set, gp_shop_item_mean, on=['shop_id', 'item_id'], how='left')\n",
        "validation_set = pd.merge(validation_set, gp_year_mean, on=['year'], how='left')\n",
        "validation_set = pd.merge(validation_set, gp_month_mean, on=['month'], how='left')"
      ],
      "execution_count": null,
      "outputs": []
    },
    {
      "cell_type": "code",
      "metadata": {
        "trusted": true,
        "_uuid": "7b3118d00fcb8fc2c1030a5ff37d8c201b989545",
        "id": "8bdQcSAwsItZ",
        "colab_type": "code",
        "colab": {}
      },
      "source": [
        "# Create train and validation sets and labels. \n",
        "X_train = train_set.drop(['item_cnt_month', 'date_block_num'], axis=1)\n",
        "Y_train = train_set['item_cnt_month'].astype(int)\n",
        "X_validation = validation_set.drop(['item_cnt_month', 'date_block_num'], axis=1)\n",
        "Y_validation = validation_set['item_cnt_month'].astype(int)"
      ],
      "execution_count": null,
      "outputs": []
    },
    {
      "cell_type": "code",
      "metadata": {
        "trusted": true,
        "_uuid": "10a282455b0ba0c601eea05bc90322877a132429",
        "id": "jepmKNZrsItp",
        "colab_type": "code",
        "colab": {}
      },
      "source": [
        "# Integer features (used by catboost model).\n",
        "int_features = ['shop_id', 'item_id', 'year', 'month']\n",
        "\n",
        "X_train[int_features] = X_train[int_features].astype('int32')\n",
        "X_validation[int_features] = X_validation[int_features].astype('int32')"
      ],
      "execution_count": null,
      "outputs": []
    },
    {
      "cell_type": "code",
      "metadata": {
        "trusted": true,
        "_uuid": "ea92bf4c0739cb94e6b8b06b6525cab66a47fa6b",
        "id": "hiwPPOpEsIt2",
        "colab_type": "code",
        "colab": {}
      },
      "source": [
        "latest_records = pd.concat([train_set, validation_set]).drop_duplicates(subset=['shop_id', 'item_id'], keep='last')\n",
        "X_test = pd.merge(test, latest_records, on=['shop_id', 'item_id'], how='left', suffixes=['', '_'])\n",
        "X_test['year'] = 2015\n",
        "X_test['month'] = 9\n",
        "X_test.drop('item_cnt_month', axis=1, inplace=True)\n",
        "X_test[int_features] = X_test[int_features].astype('int32')\n",
        "X_test = X_test[X_train.columns]"
      ],
      "execution_count": null,
      "outputs": []
    },
    {
      "cell_type": "markdown",
      "metadata": {
        "_uuid": "7263b8e69d7f1fe529b89c08a1cb905ed4bbf257",
        "id": "5BOMtWuksIuC",
        "colab_type": "text"
      },
      "source": [
        "### Replacing missing values."
      ]
    },
    {
      "cell_type": "code",
      "metadata": {
        "trusted": true,
        "_uuid": "7751f418cefd6a4daf7663ec43b4baadaa3b3905",
        "_kg_hide-input": false,
        "id": "IDrN6eUasIuD",
        "colab_type": "code",
        "colab": {}
      },
      "source": [
        "sets = [X_train, X_validation, X_test]\n",
        "\n",
        "# This was taking too long.\n",
        "# Replace missing values with the median of each item.\n",
        "# for dataset in sets:\n",
        "#     for item_id in dataset['item_id'].unique():\n",
        "#         for column in dataset.columns:\n",
        "#             item_median = dataset[(dataset['item_id'] == item_id)][column].median()\n",
        "#             dataset.loc[(dataset[column].isnull()) & (dataset['item_id'] == item_id), column] = item_median\n",
        "\n",
        "# Replace missing values with the median of each shop.            \n",
        "for dataset in sets:\n",
        "    for shop_id in dataset['shop_id'].unique():\n",
        "        for column in dataset.columns:\n",
        "            shop_median = dataset[(dataset['shop_id'] == shop_id)][column].median()\n",
        "            dataset.loc[(dataset[column].isnull()) & (dataset['shop_id'] == shop_id), column] = shop_median\n",
        "            \n",
        "# Fill remaining missing values on test set with mean.\n",
        "X_test.fillna(X_test.mean(), inplace=True)"
      ],
      "execution_count": null,
      "outputs": []
    },
    {
      "cell_type": "code",
      "metadata": {
        "trusted": true,
        "_uuid": "0956e6c1ef3bbb3908d054b7a86b596404e5aa8b",
        "id": "kFiBQ-QusIuL",
        "colab_type": "code",
        "colab": {}
      },
      "source": [
        "# I'm dropping \"item_category_id\", we don't have it on test set and would be a little hard to create categories for items that exist only on test set.\n",
        "X_train.drop(['item_category_id'], axis=1, inplace=True)\n",
        "X_validation.drop(['item_category_id'], axis=1, inplace=True)\n",
        "X_test.drop(['item_category_id'], axis=1, inplace=True)"
      ],
      "execution_count": null,
      "outputs": []
    },
    {
      "cell_type": "markdown",
      "metadata": {
        "_uuid": "ff43ed998eb859284670c8500ff854cde5303f9c",
        "id": "33DU5RWBsIul",
        "colab_type": "text"
      },
      "source": [
        "### Modeling the data\n",
        "\n",
        "### Catboost"
      ]
    },
    {
      "cell_type": "code",
      "metadata": {
        "trusted": true,
        "_uuid": "73f88a81d81cdabf0da83e59015cd0edfc2ed6f8",
        "scrolled": true,
        "id": "IdPtCCxTsIuo",
        "colab_type": "code",
        "colab": {}
      },
      "source": [
        "cat_features = [0, 1, 7, 8]\n",
        "\n",
        "catboost_model = CatBoostRegressor(\n",
        "    iterations=500,\n",
        "    max_ctr_complexity=4,\n",
        "    random_seed=0,\n",
        "    od_type='Iter',\n",
        "    od_wait=25,\n",
        "    verbose=50,\n",
        "    depth=4\n",
        ")\n",
        "\n",
        "catboost_model.fit(\n",
        "    X_train, Y_train,\n",
        "    cat_features=cat_features,\n",
        "    eval_set=(X_validation, Y_validation)\n",
        ")"
      ],
      "execution_count": null,
      "outputs": []
    },
    {
      "cell_type": "code",
      "metadata": {
        "trusted": true,
        "_uuid": "03a0b86ba70914bae6f48d00756b1fb987fd003e",
        "_kg_hide-input": true,
        "id": "jyDf8CjgsIuv",
        "colab_type": "code",
        "colab": {}
      },
      "source": [
        "print('Model params:', catboost_model.get_params())"
      ],
      "execution_count": null,
      "outputs": []
    },
    {
      "cell_type": "code",
      "metadata": {
        "_kg_hide-input": true,
        "trusted": true,
        "_uuid": "3f0aad55bd1b8f2381c43ab36775d5e7eb21a447",
        "id": "OHNO1ot_sIu2",
        "colab_type": "code",
        "colab": {}
      },
      "source": [
        "feature_score = pd.DataFrame(list(zip(X_train.dtypes.index, catboost_model.get_feature_importance(Pool(X_train, label=Y_train, cat_features=cat_features)))), columns=['Feature','Score'])\n",
        "feature_score = feature_score.sort_values(by='Score', ascending=False, inplace=False, kind='quicksort', na_position='last')\n",
        "\n",
        "plt.rcParams[\"figure.figsize\"] = (19, 6)\n",
        "ax = feature_score.plot('Feature', 'Score', kind='bar', color='c')\n",
        "ax.set_title(\"Catboost Feature Importance Ranking\", fontsize = 14)\n",
        "ax.set_xlabel('')\n",
        "rects = ax.patches\n",
        "labels = feature_score['Score'].round(2)\n",
        "\n",
        "for rect, label in zip(rects, labels):\n",
        "    height = rect.get_height()\n",
        "    ax.text(rect.get_x() + rect.get_width()/2, height + 0.35, label, ha='center', va='bottom')\n",
        "\n",
        "plt.show()"
      ],
      "execution_count": null,
      "outputs": []
    },
    {
      "cell_type": "code",
      "metadata": {
        "trusted": true,
        "_uuid": "dbea78e85b720043785c6022ad2cc1f67ca08609",
        "_kg_hide-input": false,
        "id": "TbO4LF7jsIu_",
        "colab_type": "code",
        "colab": {}
      },
      "source": [
        "catboost_train_pred = catboost_model.predict(X_train)\n",
        "catboost_val_pred = catboost_model.predict(X_validation)\n",
        "catboost_test_pred = catboost_model.predict(X_test)"
      ],
      "execution_count": null,
      "outputs": []
    },
    {
      "cell_type": "code",
      "metadata": {
        "_kg_hide-input": true,
        "trusted": true,
        "_uuid": "725c3e57aadc1de507b25293117cc7b31c0ff488",
        "id": "ixx5pQ4EsIvO",
        "colab_type": "code",
        "colab": {}
      },
      "source": [
        "print('Train rmse:', np.sqrt(mean_squared_error(Y_train, catboost_train_pred)))\n",
        "print('Validation rmse:', np.sqrt(mean_squared_error(Y_validation, catboost_val_pred)))"
      ],
      "execution_count": null,
      "outputs": []
    },
    {
      "cell_type": "code",
      "metadata": {
        "_kg_hide-input": true,
        "trusted": true,
        "_uuid": "e246d057fdf5bf935fbd0c178dd492a856c0486c",
        "id": "Ru9X-iMpsIvW",
        "colab_type": "code",
        "colab": {}
      },
      "source": [
        "def model_performance_sc_plot(predictions, labels, title):\n",
        "    # Get min and max values of the predictions and labels.\n",
        "    min_val = max(max(predictions), max(labels))\n",
        "    max_val = min(min(predictions), min(labels))\n",
        "    # Create dataframe with predicitons and labels.\n",
        "    performance_df = pd.DataFrame({\"Label\":labels})\n",
        "    performance_df[\"Prediction\"] = predictions\n",
        "    # Plot data\n",
        "    sns.jointplot(y=\"Label\", x=\"Prediction\", data=performance_df, kind=\"reg\", height=7)\n",
        "    plt.plot([min_val, max_val], [min_val, max_val], 'm--')\n",
        "    plt.title(title, fontsize=9)\n",
        "    plt.show()\n",
        "    \n",
        "# model_performance_sc_plot(catboost_train_pred, Y_train, 'Train')\n",
        "model_performance_sc_plot(catboost_val_pred, Y_validation, 'Validation')"
      ],
      "execution_count": null,
      "outputs": []
    },
    {
      "cell_type": "code",
      "metadata": {
        "trusted": true,
        "_uuid": "e2420e802e8d9bb292369da9fd3c30236db8ea41",
        "id": "4y_HibGPsIvf",
        "colab_type": "code",
        "colab": {}
      },
      "source": [
        "# XGBoost\n",
        "# Use only part of features on XGBoost.\n",
        "xgb_features = ['item_cnt','item_cnt_mean', 'item_cnt_std', 'item_cnt_shifted1', \n",
        "                'item_cnt_shifted2', 'item_cnt_shifted3', 'shop_mean', \n",
        "                'shop_item_mean', 'item_trend', 'mean_item_cnt']\n",
        "xgb_train = X_train[xgb_features]\n",
        "xgb_val = X_validation[xgb_features]\n",
        "xgb_test = X_test[xgb_features]"
      ],
      "execution_count": null,
      "outputs": []
    },
    {
      "cell_type": "code",
      "metadata": {
        "trusted": true,
        "_uuid": "664e284578f124539a7fd444f4942c6938cad9a3",
        "id": "3Pido9U2sIvk",
        "colab_type": "code",
        "colab": {}
      },
      "source": [
        "xgb_model = XGBRegressor(max_depth=8, \n",
        "                         n_estimators=500, \n",
        "                         min_child_weight=1000,  \n",
        "                         colsample_bytree=0.7, \n",
        "                         subsample=0.7, \n",
        "                         eta=0.3, \n",
        "                         seed=0)\n",
        "xgb_model.fit(xgb_train, \n",
        "              Y_train, \n",
        "              eval_metric=\"rmse\", \n",
        "              eval_set=[(xgb_train, Y_train), (xgb_val, Y_validation)], \n",
        "              verbose=20, \n",
        "              early_stopping_rounds=20)"
      ],
      "execution_count": null,
      "outputs": []
    },
    {
      "cell_type": "code",
      "metadata": {
        "_kg_hide-input": true,
        "trusted": true,
        "_uuid": "13818b135fd421ceb947cefab59d9f446855df50",
        "id": "Z6m-7zL4sIvr",
        "colab_type": "code",
        "colab": {}
      },
      "source": [
        "plt.rcParams[\"figure.figsize\"] = (15, 6)\n",
        "plot_importance(xgb_model)\n",
        "plt.show()"
      ],
      "execution_count": null,
      "outputs": []
    },
    {
      "cell_type": "code",
      "metadata": {
        "trusted": true,
        "_uuid": "187a10ac7bb5eb1053fd5649626d66835af65d20",
        "id": "tRCYcEdisIv0",
        "colab_type": "code",
        "colab": {}
      },
      "source": [
        "xgb_train_pred = xgb_model.predict(xgb_train)\n",
        "xgb_val_pred = xgb_model.predict(xgb_val)\n",
        "xgb_test_pred = xgb_model.predict(xgb_test)"
      ],
      "execution_count": null,
      "outputs": []
    },
    {
      "cell_type": "code",
      "metadata": {
        "_kg_hide-input": true,
        "trusted": true,
        "_uuid": "fe7b0f331a7099a0db15a90daaa58f2e89dd7ebf",
        "id": "T4oeqO_4sIv7",
        "colab_type": "code",
        "colab": {}
      },
      "source": [
        "print('Train rmse:', np.sqrt(mean_squared_error(Y_train, xgb_train_pred)))\n",
        "print('Validation rmse:', np.sqrt(mean_squared_error(Y_validation, xgb_val_pred)))"
      ],
      "execution_count": null,
      "outputs": []
    },
    {
      "cell_type": "code",
      "metadata": {
        "_kg_hide-input": true,
        "trusted": true,
        "_uuid": "4883eed3db7c700bed74fbd08a48b4fe448fa759",
        "id": "FfSIAp5esIwC",
        "colab_type": "code",
        "colab": {}
      },
      "source": [
        "# model_performance_sc_plot(xgb_train_pred, Y_train, 'Train')\n",
        "model_performance_sc_plot(xgb_val_pred, Y_validation, 'Validation')"
      ],
      "execution_count": null,
      "outputs": []
    },
    {
      "cell_type": "code",
      "metadata": {
        "trusted": true,
        "_uuid": "d2adddbafbb172a9c4e3e504e862f6df59a1fd93",
        "id": "LTJd-PC4sIwL",
        "colab_type": "code",
        "colab": {}
      },
      "source": [
        "# Random forest\n",
        "# Use only part of features on random forest.\n",
        "rf_features = ['shop_id', 'item_id', 'item_cnt', 'transactions', 'year',\n",
        "               'item_cnt_mean', 'item_cnt_std', 'item_cnt_shifted1', \n",
        "               'shop_mean', 'item_mean', 'item_trend', 'mean_item_cnt']\n",
        "rf_train = X_train[rf_features]\n",
        "rf_val = X_validation[rf_features]\n",
        "rf_test = X_test[rf_features]"
      ],
      "execution_count": null,
      "outputs": []
    },
    {
      "cell_type": "code",
      "metadata": {
        "trusted": true,
        "_uuid": "fb01123397fbd2cfd4ac3e0eefac456063b38810",
        "id": "Yq4x6u_JsIwQ",
        "colab_type": "code",
        "colab": {}
      },
      "source": [
        "rf_model = RandomForestRegressor(n_estimators=50, max_depth=7, random_state=0, n_jobs=-1)\n",
        "rf_model.fit(rf_train, Y_train)"
      ],
      "execution_count": null,
      "outputs": []
    },
    {
      "cell_type": "code",
      "metadata": {
        "_kg_hide-input": false,
        "trusted": true,
        "_uuid": "1f58257f9673ec2221ca500bf7677e81cc0337ec",
        "id": "TSONNstFsIwX",
        "colab_type": "code",
        "colab": {}
      },
      "source": [
        "rf_train_pred = rf_model.predict(rf_train)\n",
        "rf_val_pred = rf_model.predict(rf_val)\n",
        "rf_test_pred = rf_model.predict(rf_test)"
      ],
      "execution_count": null,
      "outputs": []
    },
    {
      "cell_type": "code",
      "metadata": {
        "_kg_hide-input": true,
        "trusted": true,
        "_uuid": "f3962fc67733732b2ce1ddfc78ee528c8c76f63f",
        "id": "Fd2jrZDtsIwd",
        "colab_type": "code",
        "colab": {}
      },
      "source": [
        "print('Train rmse:', np.sqrt(mean_squared_error(Y_train, rf_train_pred)))\n",
        "print('Validation rmse:', np.sqrt(mean_squared_error(Y_validation, rf_val_pred)))"
      ],
      "execution_count": null,
      "outputs": []
    },
    {
      "cell_type": "code",
      "metadata": {
        "_kg_hide-input": true,
        "trusted": true,
        "_uuid": "c67466fda631c9ec6764cd453bd571dd290255cb",
        "id": "ZkzRw-hdsIwj",
        "colab_type": "code",
        "colab": {}
      },
      "source": [
        "# model_performance_sc_plot(rf_train_pred, Y_train, 'Train')\n",
        "model_performance_sc_plot(rf_val_pred, Y_validation, 'Validation')"
      ],
      "execution_count": null,
      "outputs": []
    },
    {
      "cell_type": "code",
      "metadata": {
        "trusted": true,
        "_uuid": "5ab33ceacdbec93d83e8d943703eaae913fc903b",
        "id": "-8NoJ3y6sIwp",
        "colab_type": "code",
        "colab": {}
      },
      "source": [
        "# Linear Regression\n",
        "# Use only part of features on linear Regression.\n",
        "lr_features = ['item_cnt', 'item_cnt_shifted1', 'item_trend', 'mean_item_cnt', 'shop_mean']\n",
        "lr_train = X_train[lr_features]\n",
        "lr_val = X_validation[lr_features]\n",
        "lr_test = X_test[lr_features]"
      ],
      "execution_count": null,
      "outputs": []
    },
    {
      "cell_type": "code",
      "metadata": {
        "trusted": true,
        "_uuid": "740e5d29b5b95efc5dccfd23583f1bf619511baf",
        "id": "sxpT3NuysIwv",
        "colab_type": "code",
        "colab": {}
      },
      "source": [
        "# Normalizing features\n",
        "lr_scaler = MinMaxScaler()\n",
        "lr_scaler.fit(lr_train)\n",
        "lr_train = lr_scaler.transform(lr_train)\n",
        "lr_val = lr_scaler.transform(lr_val)\n",
        "lr_test = lr_scaler.transform(lr_test)"
      ],
      "execution_count": null,
      "outputs": []
    },
    {
      "cell_type": "code",
      "metadata": {
        "trusted": true,
        "_uuid": "76fdad787667e8cb2390037ee4de0b797edd6b71",
        "id": "tDF-SRsfsIw0",
        "colab_type": "code",
        "colab": {}
      },
      "source": [
        "lr_model = LinearRegression(n_jobs=-1)\n",
        "lr_model.fit(lr_train, Y_train)"
      ],
      "execution_count": null,
      "outputs": []
    },
    {
      "cell_type": "code",
      "metadata": {
        "trusted": true,
        "_uuid": "e7d590deb7cce90bda5b917ceb5c51837010c7e6",
        "id": "0p8-8hPIsIxA",
        "colab_type": "code",
        "colab": {}
      },
      "source": [
        "lr_train_pred = lr_model.predict(lr_train)\n",
        "lr_val_pred = lr_model.predict(lr_val)\n",
        "lr_test_pred = lr_model.predict(lr_test)"
      ],
      "execution_count": null,
      "outputs": []
    },
    {
      "cell_type": "code",
      "metadata": {
        "trusted": true,
        "_uuid": "20a41af682fab380653753f1599b409eba76b1d7",
        "_kg_hide-input": true,
        "id": "-oVwXU9GsIxF",
        "colab_type": "code",
        "colab": {}
      },
      "source": [
        "print('Train rmse:', np.sqrt(mean_squared_error(Y_train, lr_train_pred)))\n",
        "print('Validation rmse:', np.sqrt(mean_squared_error(Y_validation, lr_val_pred)))"
      ],
      "execution_count": null,
      "outputs": []
    },
    {
      "cell_type": "code",
      "metadata": {
        "trusted": true,
        "_uuid": "b0f4d203fb3024af2de7f6c0f9c8daec7f519ee9",
        "_kg_hide-input": true,
        "id": "0JdI4fNrsIxN",
        "colab_type": "code",
        "colab": {}
      },
      "source": [
        "# model_performance_sc_plot(lr_train_pred, Y_train, 'Train')\n",
        "model_performance_sc_plot(lr_val_pred, Y_validation, 'Validation')"
      ],
      "execution_count": null,
      "outputs": []
    },
    {
      "cell_type": "code",
      "metadata": {
        "trusted": true,
        "_uuid": "eacbbf35dcf870dd40971313f6679fca47be779e",
        "id": "s69IWqQ_sIxW",
        "colab_type": "code",
        "colab": {}
      },
      "source": [
        "# KNN Regressor\n",
        "# Use only part of features on KNN.\n",
        "knn_features = ['item_cnt', 'item_cnt_mean', 'item_cnt_std', 'item_cnt_shifted1',\n",
        "                'item_cnt_shifted2', 'shop_mean', 'shop_item_mean', \n",
        "                'item_trend', 'mean_item_cnt']\n",
        "\n",
        "# Subsample train set (using the whole data was taking too long).\n",
        "X_train_sampled = X_train[:100000]\n",
        "Y_train_sampled = Y_train[:100000]\n",
        "\n",
        "knn_train = X_train_sampled[knn_features]\n",
        "knn_val = X_validation[knn_features]\n",
        "knn_test = X_test[knn_features]"
      ],
      "execution_count": null,
      "outputs": []
    },
    {
      "cell_type": "code",
      "metadata": {
        "trusted": true,
        "_uuid": "ceaccd5a99ffea219b457161b9969a92e2246dcf",
        "id": "PmKqwaUfsIxn",
        "colab_type": "code",
        "colab": {}
      },
      "source": [
        "# Normalizing features\n",
        "\n",
        "knn_scaler = MinMaxScaler()\n",
        "knn_scaler.fit(knn_train)\n",
        "knn_train = knn_scaler.transform(knn_train)\n",
        "knn_val = knn_scaler.transform(knn_val)\n",
        "knn_test = knn_scaler.transform(knn_test)"
      ],
      "execution_count": null,
      "outputs": []
    },
    {
      "cell_type": "code",
      "metadata": {
        "trusted": true,
        "_uuid": "1fab3dd11e5f5524105d3fc10833c54bff4337f8",
        "id": "iURLIAnvsIxx",
        "colab_type": "code",
        "colab": {}
      },
      "source": [
        "knn_model = KNeighborsRegressor(n_neighbors=9, leaf_size=13, n_jobs=-1)\n",
        "knn_model.fit(knn_train, Y_train_sampled)"
      ],
      "execution_count": null,
      "outputs": []
    },
    {
      "cell_type": "code",
      "metadata": {
        "trusted": true,
        "_uuid": "1124addcec6c40076ff7056f3f29b7749761d52e",
        "id": "xK6keeXisIx3",
        "colab_type": "code",
        "colab": {}
      },
      "source": [
        "knn_train_pred = knn_model.predict(knn_train)\n",
        "knn_val_pred = knn_model.predict(knn_val)\n",
        "knn_test_pred = knn_model.predict(knn_test)"
      ],
      "execution_count": null,
      "outputs": []
    },
    {
      "cell_type": "code",
      "metadata": {
        "_kg_hide-input": true,
        "trusted": true,
        "_uuid": "a658907c91ee956e1da7feb3c92d81664720b5bd",
        "id": "TL5Flt8ZsIx8",
        "colab_type": "code",
        "colab": {}
      },
      "source": [
        "print('Train rmse:', np.sqrt(mean_squared_error(Y_train_sampled, knn_train_pred)))\n",
        "print('Validation rmse:', np.sqrt(mean_squared_error(Y_validation, knn_val_pred)))"
      ],
      "execution_count": null,
      "outputs": []
    },
    {
      "cell_type": "code",
      "metadata": {
        "_kg_hide-input": true,
        "trusted": true,
        "_uuid": "e2b76e52edbd2af4fe2b53e7d9851bfac24c3c69",
        "id": "HQ-gG9HQsIyE",
        "colab_type": "code",
        "colab": {}
      },
      "source": [
        "# model_performance_sc_plot(knn_train_pred, Y_train_sampled, 'Train')\n",
        "model_performance_sc_plot(knn_val_pred, Y_validation, 'Validation')"
      ],
      "execution_count": null,
      "outputs": []
    },
    {
      "cell_type": "code",
      "metadata": {
        "trusted": true,
        "_uuid": "47525c6c9da7c560b06b037e02b932ef9c224333",
        "id": "0Szy0150sIyK",
        "colab_type": "code",
        "colab": {}
      },
      "source": [
        "# Dataset that will be the train set of the ensemble model.\n",
        "first_level = pd.DataFrame(catboost_val_pred, columns=['catboost'])\n",
        "first_level['xgbm'] = xgb_val_pred\n",
        "first_level['random_forest'] = rf_val_pred\n",
        "first_level['linear_regression'] = lr_val_pred\n",
        "first_level['knn'] = knn_val_pred\n",
        "first_level['label'] = Y_validation.values\n",
        "first_level.head(20)"
      ],
      "execution_count": null,
      "outputs": []
    },
    {
      "cell_type": "code",
      "metadata": {
        "trusted": true,
        "_uuid": "b1457c21773856c8a7c73a452beb659f35464512",
        "id": "vVg9RkCtsIyW",
        "colab_type": "code",
        "colab": {}
      },
      "source": [
        "# Dataset that will be the test set of the ensemble model.\n",
        "first_level_test = pd.DataFrame(catboost_test_pred, columns=['catboost'])\n",
        "first_level_test['xgbm'] = xgb_test_pred\n",
        "first_level_test['random_forest'] = rf_test_pred\n",
        "first_level_test['linear_regression'] = lr_test_pred\n",
        "first_level_test['knn'] = knn_test_pred\n",
        "first_level_test.head()"
      ],
      "execution_count": null,
      "outputs": []
    },
    {
      "cell_type": "code",
      "metadata": {
        "trusted": true,
        "_uuid": "e643b5f4b5c5ea9a1ee4ede6f26eabc710248feb",
        "id": "jQfSm-5DsIyd",
        "colab_type": "code",
        "colab": {}
      },
      "source": [
        "meta_model = LinearRegression(n_jobs=-1)"
      ],
      "execution_count": null,
      "outputs": []
    },
    {
      "cell_type": "code",
      "metadata": {
        "trusted": true,
        "_uuid": "fa34fadee5290ef57b9998a345ca99a390030435",
        "id": "a2gedptSsIyk",
        "colab_type": "code",
        "colab": {}
      },
      "source": [
        "# Drop label from dataset.\n",
        "first_level.drop('label', axis=1, inplace=True)\n",
        "meta_model.fit(first_level, Y_validation)"
      ],
      "execution_count": null,
      "outputs": []
    },
    {
      "cell_type": "code",
      "metadata": {
        "trusted": true,
        "_uuid": "4e92b8cf8df4db809425ceb69c7cd01d457950c1",
        "_kg_hide-input": true,
        "id": "RCa9kweBsIyr",
        "colab_type": "code",
        "colab": {}
      },
      "source": [
        "ensemble_pred = meta_model.predict(first_level)\n",
        "final_predictions = meta_model.predict(first_level_test)"
      ],
      "execution_count": null,
      "outputs": []
    },
    {
      "cell_type": "code",
      "metadata": {
        "_kg_hide-input": true,
        "trusted": true,
        "_uuid": "e57727d067f5c5dc7f83589b8e4e0056f29d7815",
        "id": "qg3-yrVtsIyx",
        "colab_type": "code",
        "colab": {}
      },
      "source": [
        "print('Train rmse:', np.sqrt(mean_squared_error(ensemble_pred, Y_validation)))"
      ],
      "execution_count": null,
      "outputs": []
    },
    {
      "cell_type": "code",
      "metadata": {
        "_kg_hide-input": true,
        "trusted": true,
        "_uuid": "9d50eb5dc41518816096edf8789c14c571c24de1",
        "id": "x5rCB_8YsIy3",
        "colab_type": "code",
        "colab": {}
      },
      "source": [
        "model_performance_sc_plot(ensemble_pred, Y_validation, 'Validation')"
      ],
      "execution_count": null,
      "outputs": []
    },
    {
      "cell_type": "code",
      "metadata": {
        "trusted": true,
        "_uuid": "d56956add596808733fe0474f93b3092ef1260f5",
        "id": "wL6AvOQSsIy9",
        "colab_type": "code",
        "colab": {}
      },
      "source": [
        "prediction_df = pd.DataFrame(test['ID'], columns=['ID'])\n",
        "prediction_df['item_cnt_month'] = final_predictions.clip(0., 20.)\n",
        "prediction_df.to_csv('submission.csv', index=False)\n",
        "prediction_df.head(10)"
      ],
      "execution_count": null,
      "outputs": []
    }
  ]
}